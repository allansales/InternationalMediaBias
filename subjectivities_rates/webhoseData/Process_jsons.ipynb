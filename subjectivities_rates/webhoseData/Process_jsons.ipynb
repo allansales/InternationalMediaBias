{
 "cells": [
  {
   "cell_type": "code",
   "execution_count": 1,
   "metadata": {},
   "outputs": [],
   "source": [
    "import pandas as pd\n",
    "import json\n",
    "import os"
   ]
  },
  {
   "cell_type": "code",
   "execution_count": 2,
   "metadata": {},
   "outputs": [],
   "source": [
    "directory = 'ita_news/'\n",
    "\n",
    "all_news = list()\n",
    "for filename in os.listdir(directory):\n",
    "    file_path = directory + filename\n",
    "    \n",
    "    with open(file_path) as json_file:\n",
    "        data = json.load(json_file)\n",
    "        \n",
    "        title = data[\"title\"]\n",
    "        body = data[\"text\"]\n",
    "        url = data[\"url\"]\n",
    "        language = data[\"language\"]\n",
    "        \n",
    "        current_news = list([title, body, url, language])\n",
    "        \n",
    "    all_news.append(current_news)"
   ]
  },
  {
   "cell_type": "code",
   "execution_count": 3,
   "metadata": {},
   "outputs": [],
   "source": [
    "news_df = pd.DataFrame(all_news, columns=[\"title\",\"body\",\"url\",\"language\"])"
   ]
  },
  {
   "cell_type": "code",
   "execution_count": 4,
   "metadata": {},
   "outputs": [],
   "source": [
    "news_df.to_csv(\"ita_news.csv\", encoding = 'utf-8', index=False)"
   ]
  },
  {
   "cell_type": "code",
   "execution_count": null,
   "metadata": {},
   "outputs": [],
   "source": []
  }
 ],
 "metadata": {
  "kernelspec": {
   "display_name": "Python 2",
   "language": "python",
   "name": "python2"
  },
  "language_info": {
   "codemirror_mode": {
    "name": "ipython",
    "version": 2
   },
   "file_extension": ".py",
   "mimetype": "text/x-python",
   "name": "python",
   "nbconvert_exporter": "python",
   "pygments_lexer": "ipython2",
   "version": "2.7.16"
  }
 },
 "nbformat": 4,
 "nbformat_minor": 2
}
