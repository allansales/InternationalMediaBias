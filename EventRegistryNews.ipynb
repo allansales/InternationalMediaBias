{
 "cells": [
  {
   "cell_type": "markdown",
   "metadata": {},
   "source": [
    "# Retrieving news from Event Registry"
   ]
  },
  {
   "cell_type": "code",
   "execution_count": 1,
   "metadata": {
    "scrolled": true
   },
   "outputs": [
    {
     "name": "stdout",
     "output_type": "stream",
     "text": [
      "using user provided API key for making requests\n",
      "Event Registry host: http://eventregistry.org\n",
      "Text analytics host: http://analytics.eventregistry.org\n"
     ]
    }
   ],
   "source": [
    "%matplotlib inline\n",
    "from eventregistry import *\n",
    "from eventRegistryHandler import *\n",
    "from dataHandler import *\n",
    "import seaborn as sns\n",
    "import os\n",
    "\n",
    "er = EventRegistry(apiKey = \"1f418876-731f-4041-b042-2d6d26d93fc7\")\n",
    "#\"9eb5d263-141a-4450-a8e3-5d3c20158798\"\n",
    "#ricardooliveira@copin.ufcg.edu.br\n",
    "#linha743"
   ]
  },
  {
   "cell_type": "code",
   "execution_count": 2,
   "metadata": {},
   "outputs": [],
   "source": [
    "def get_topic(word):\n",
    "    for key, values in topics.items():\n",
    "        if word in values:\n",
    "            return key\n",
    "    return None\n",
    "\n",
    "\n",
    "def file_exists(file_name):\n",
    "    return os.path.isfile(file_name)"
   ]
  },
  {
   "cell_type": "code",
   "execution_count": 3,
   "metadata": {},
   "outputs": [],
   "source": [
    "bias_file = pd.read_csv(\"MediaBiasFactCheck/outlets_political_stance\")\n",
    "columns = ['categories','uri','url','source.uri','source.title','title','body','date','dataType','lang','source.location.country.label.eng','source.location.label.eng','sentiment','sim']\n",
    "\n",
    "FINAL_loc = \"title\"\n",
    "FINAL_sim = 0.9\n",
    "FINAL_n = -1"
   ]
  },
  {
   "cell_type": "code",
   "execution_count": 4,
   "metadata": {},
   "outputs": [],
   "source": [
    "keywords = {\"por\":[\"Venezuela\",\"Síria\",[\"Lava\",\"Jato\"],\"Moro\"],\"deu\":[\"Venezuela\",\"Syrien\",\"Moro\"],\"eng\":[\"Venezuela\",\"Syria\",\"Moro\"]}\n",
    "topics = {\"venezuela\":[\"Venezuela\"], \"syria\":[\"Síria\",\"Syrien\",\"Syria\"],\"lavajato\":[\"Lava_Jato\"],\"sergiomoro\":[\"Moro\"]}"
   ]
  },
  {
   "cell_type": "code",
   "execution_count": 6,
   "metadata": {},
   "outputs": [
    {
     "name": "stdout",
     "output_type": "stream",
     "text": [
      "Venezuela por\n",
      "Síria por\n",
      "['Lava', 'Jato'] por\n",
      "Moro por\n",
      "Venezuela deu\n",
      "Syrien deu\n",
      "Moro deu\n",
      "Venezuela eng\n",
      "Syria eng\n",
      "Moro eng\n"
     ]
    }
   ],
   "source": [
    "for lang in keywords.keys():\n",
    "    for key in keywords[lang]:\n",
    "        print key, lang\n",
    "        \n",
    "        topic_name = key\n",
    "        if type(key) == list:\n",
    "            topic_name = \"_\".join(key)\n",
    "            \n",
    "        file_name = \"EventRegistryData/backup/news_\"+topic_name+\"_\"+lang+\".csv\"\n",
    "        exists = file_exists(file_name)\n",
    "        \n",
    "        data = None\n",
    "        last_update = None\n",
    "        if exists:\n",
    "            data = pd.read_csv(file_name)\n",
    "            last_update = data.date.max()\n",
    "        \n",
    "        last_update = \"2019-06-09\"\n",
    "        FINAL_n = 30\n",
    "        lang_iter = get_news_iterator(er=er, keywords=key, language=lang, loc=FINAL_loc, n_items=FINAL_n, date_start = last_update, outlets_ids=None)\n",
    "        new_data = retrieve_news_2(lang_iter, columns)\n",
    "        new_data = add_country_location(new_data)\n",
    "        new_data = add_bias_information(bias=bias_file, news=new_data, match_similarity=FINAL_sim)\n",
    "        \n",
    "        update_data = new_data.append(data)\n",
    "        update_data[\"topic\"] = get_topic(topic_name)\n",
    "        update_data.to_csv(file_name, index = False, header=True, encoding=\"utf-8\")\n",
    "        "
   ]
  },
  {
   "cell_type": "code",
   "execution_count": null,
   "metadata": {},
   "outputs": [],
   "source": [
    "#deu_outlets_ids =[\"jungefreiheit.de\"]#,\"faz.net\",\"spiegel.de\",\"taz.de\",\"zeit.de\",\"bild.de\",\"welt.de\"\n",
    "#pt_outlets_ids =[\"brasil247.com\",\"cartacapital.com.br\",\"oantagonista.com\",\"veja.abril.com.br\"]\n",
    "#eng_outlets_ids =[\"huffpost.com\"],\"foxnews.com\",\"breitbart.com\",\"washingtonpost.com\",\"reuters.com\"]"
   ]
  },
  {
   "cell_type": "markdown",
   "metadata": {},
   "source": [
    "## Dataset Description"
   ]
  },
  {
   "cell_type": "markdown",
   "metadata": {},
   "source": [
    "### Joining tables"
   ]
  },
  {
   "cell_type": "code",
   "execution_count": null,
   "metadata": {},
   "outputs": [],
   "source": [
    "import glob\n",
    "\n",
    "path = r'EventRegistryData/backup/'\n",
    "all_files = glob.glob(path + \"/*.csv\")\n",
    "li = []\n",
    "\n",
    "for filename in all_files:\n",
    "    df = pd.read_csv(filename, index_col=None)\n",
    "    li.append(df)\n",
    "\n",
    "news = pd.concat(li, axis=0, ignore_index=True)\n",
    "news[\"subject\"] = news.title.apply(lambda x: \"venezuela\" if \"venezuela\" in x.lower() else \"syria\")"
   ]
  },
  {
   "cell_type": "markdown",
   "metadata": {},
   "source": [
    "### Dataset Overview"
   ]
  },
  {
   "cell_type": "code",
   "execution_count": null,
   "metadata": {},
   "outputs": [],
   "source": [
    "print \"min: \"+news.date.min()\n",
    "print \"max: \"+news.date.max()\n",
    "print len(news.date.unique())"
   ]
  },
  {
   "cell_type": "code",
   "execution_count": null,
   "metadata": {
    "scrolled": true
   },
   "outputs": [],
   "source": [
    "news.subject.value_counts().plot(kind=\"bar\")"
   ]
  },
  {
   "cell_type": "code",
   "execution_count": null,
   "metadata": {
    "scrolled": true
   },
   "outputs": [],
   "source": [
    "news.lang.value_counts().plot(kind=\"bar\")"
   ]
  },
  {
   "cell_type": "code",
   "execution_count": null,
   "metadata": {
    "scrolled": true
   },
   "outputs": [],
   "source": [
    "len(news[\"country_location\"].unique())"
   ]
  },
  {
   "cell_type": "code",
   "execution_count": null,
   "metadata": {
    "scrolled": false
   },
   "outputs": [],
   "source": [
    "news.country_location.value_counts()[0:10].plot(use_index=True, kind=\"bar\")"
   ]
  },
  {
   "cell_type": "code",
   "execution_count": null,
   "metadata": {
    "scrolled": true
   },
   "outputs": [],
   "source": [
    "len(news[\"source.title\"].unique())"
   ]
  },
  {
   "cell_type": "code",
   "execution_count": null,
   "metadata": {
    "scrolled": false
   },
   "outputs": [],
   "source": [
    "news[\"source.title\"].value_counts()[0:10].plot(kind=\"bar\")"
   ]
  },
  {
   "cell_type": "markdown",
   "metadata": {},
   "source": [
    "### USA, UK, Canada, Germany and Brazil"
   ]
  },
  {
   "cell_type": "code",
   "execution_count": null,
   "metadata": {},
   "outputs": [],
   "source": [
    "isin = news.country_location.isin([\"United States\",\"Brazil\",\"Germany\",\"United Kingdom\",\"Canada\"])\n",
    "news_countries = news[isin]"
   ]
  },
  {
   "cell_type": "code",
   "execution_count": null,
   "metadata": {},
   "outputs": [],
   "source": [
    "news_countries.shape"
   ]
  },
  {
   "cell_type": "markdown",
   "metadata": {},
   "source": [
    "Number of news by country:"
   ]
  },
  {
   "cell_type": "code",
   "execution_count": null,
   "metadata": {
    "scrolled": false
   },
   "outputs": [],
   "source": [
    "news_countries.country_location.value_counts().plot(kind=\"bar\")"
   ]
  },
  {
   "cell_type": "markdown",
   "metadata": {},
   "source": [
    "### Do the news subjectivities rates changes according to the countries news media?\n",
    "\n",
    "Are the news' subjectivities, over a predefined subject, of Brazilian, Germany and American news outlets significantly different?"
   ]
  },
  {
   "cell_type": "markdown",
   "metadata": {},
   "source": [
    "Number of news by country:"
   ]
  },
  {
   "cell_type": "code",
   "execution_count": null,
   "metadata": {
    "scrolled": false
   },
   "outputs": [],
   "source": [
    "sns.catplot(x=\"subject\", hue=\"country_location\", kind=\"count\", palette=\"pastel\", edgecolor=\".6\", data=news_countries)"
   ]
  },
  {
   "cell_type": "markdown",
   "metadata": {},
   "source": [
    "Number of news by language and country:"
   ]
  },
  {
   "cell_type": "code",
   "execution_count": null,
   "metadata": {
    "scrolled": false
   },
   "outputs": [],
   "source": [
    "sns.catplot(x=\"country_location\", hue=\"lang\", col=\"subject\", kind=\"count\", palette=\"pastel\", edgecolor=\".6\", data=news_countries)"
   ]
  },
  {
   "cell_type": "markdown",
   "metadata": {},
   "source": [
    "### Does the news outlets political slant have an influence on the subjectivity rates?"
   ]
  },
  {
   "cell_type": "markdown",
   "metadata": {},
   "source": [
    "News by political orientation in all countries:"
   ]
  },
  {
   "cell_type": "code",
   "execution_count": null,
   "metadata": {},
   "outputs": [],
   "source": [
    "news.stance.value_counts().plot(kind=\"bar\")"
   ]
  },
  {
   "cell_type": "markdown",
   "metadata": {},
   "source": [
    "News by political orientation in USA, UK, Canada, Germany and Brazil:"
   ]
  },
  {
   "cell_type": "code",
   "execution_count": null,
   "metadata": {
    "scrolled": true
   },
   "outputs": [],
   "source": [
    "news_countries.stance.value_counts().plot(kind=\"bar\")"
   ]
  },
  {
   "cell_type": "markdown",
   "metadata": {},
   "source": [
    "Political slant by country and subject:"
   ]
  },
  {
   "cell_type": "code",
   "execution_count": null,
   "metadata": {
    "scrolled": false
   },
   "outputs": [],
   "source": [
    "sns.catplot(x=\"country_location\", hue=\"stance\", col=\"subject\", kind=\"count\", palette=\"pastel\", edgecolor=\".6\", data=news_countries)"
   ]
  },
  {
   "cell_type": "markdown",
   "metadata": {},
   "source": [
    "Encontrar um contexto em que a cobertura da guerra da siria nao seja significantemente menor que a crise da venezuela"
   ]
  },
  {
   "cell_type": "code",
   "execution_count": null,
   "metadata": {},
   "outputs": [],
   "source": []
  }
 ],
 "metadata": {
  "kernelspec": {
   "display_name": "Python 2",
   "language": "python",
   "name": "python2"
  },
  "language_info": {
   "codemirror_mode": {
    "name": "ipython",
    "version": 2
   },
   "file_extension": ".py",
   "mimetype": "text/x-python",
   "name": "python",
   "nbconvert_exporter": "python",
   "pygments_lexer": "ipython2",
   "version": "2.7.16"
  }
 },
 "nbformat": 4,
 "nbformat_minor": 2
}
